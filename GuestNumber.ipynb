{
 "cells": [
  {
   "cell_type": "code",
   "execution_count": 1,
   "metadata": {
    "collapsed": false
   },
   "outputs": [
    {
     "name": "stdout",
     "output_type": "stream",
     "text": [
      "Random number between 0 and 20 has been generated\n",
      "Introduce your guess number: 10\n",
      "Try one more time, a bit higher\n",
      "Introduce your guess number: 15\n",
      "Excellent, Well done!\n",
      "Yes, you can!\n"
     ]
    }
   ],
   "source": [
    "import random\n",
    "randomNumber = random.randrange(0,20)\n",
    "print(\"Random number between 0 and 20 has been generated\")\n",
    "guessed = False\n",
    "while guessed==False:\n",
    "    userNumber = int(input(\"Introduce your guess number: \"))\n",
    "    if userNumber==randomNumber:\n",
    "        guessed = True\n",
    "        print(\"Excellent, Well done!\")\n",
    "    elif userNumber>randomNumber:\n",
    "        print(\"Try one more time, a bit lower\")\n",
    "    elif userNumber < randomNumber:\n",
    "        print(\"Try one more time, a bit higher\")\n",
    "print(\"Yes, you can!\")"
   ]
  },
  {
   "cell_type": "code",
   "execution_count": null,
   "metadata": {
    "collapsed": true
   },
   "outputs": [],
   "source": []
  }
 ],
 "metadata": {
  "kernelspec": {
   "display_name": "Python 2",
   "language": "python",
   "name": "python2"
  },
  "language_info": {
   "codemirror_mode": {
    "name": "ipython",
    "version": 2
   },
   "file_extension": ".py",
   "mimetype": "text/x-python",
   "name": "python",
   "nbconvert_exporter": "python",
   "pygments_lexer": "ipython2",
   "version": "2.7.12"
  }
 },
 "nbformat": 4,
 "nbformat_minor": 0
}
